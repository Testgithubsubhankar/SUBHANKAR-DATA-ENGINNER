{
 "cells": [
  {
   "cell_type": "code",
   "execution_count": 1,
   "id": "cbedfea3",
   "metadata": {},
   "outputs": [],
   "source": [
    "#Python Assignment"
   ]
  },
  {
   "cell_type": "code",
   "execution_count": 2,
   "id": "57e100da",
   "metadata": {},
   "outputs": [],
   "source": [
    "#1.Why do we call Python as a general purpose and high-level programming language?"
   ]
  },
  {
   "cell_type": "markdown",
   "id": "38ac8c68",
   "metadata": {},
   "source": [
    "ANS:-Python is considered a general-purpose and high-level programming language due to its versatility and simplicity. It can be used for diverse applications such as web development, scientific computing, and automation. Python's high-level nature abstracts away complex details, enabling developers to write concise and readable code. Its extensive standard library and vast third-party ecosystem provide a wealth of resources for various tasks. Python's platform independence allows code to run on multiple operating systems. Overall, these features make Python accessible to beginners, adaptable to different domains, and a powerful tool for solving a wide range of programming challenges."
   ]
  },
  {
   "cell_type": "code",
   "execution_count": 3,
   "id": "f591bda5",
   "metadata": {},
   "outputs": [],
   "source": [
    "#2.Why is Python called a dynamically typed language?"
   ]
  },
  {
   "cell_type": "markdown",
   "id": "b76a06fa",
   "metadata": {},
   "source": [
    "ANS:-Python is referred to as a dynamically typed language because it allows variables to hold values of any data type, and their type can be changed at runtime. Unlike statically typed languages that require explicit type declarations, Python infers the data type based on the assigned value. This flexibility enables developers to write code more quickly and with fewer constraints. However, it also means that type errors may not be caught until runtime. Dynamically typed languages like Python offer increased flexibility and ease of use but require careful attention to type-related issues during development and testing."
   ]
  },
  {
   "cell_type": "code",
   "execution_count": 4,
   "id": "784890d5",
   "metadata": {},
   "outputs": [],
   "source": [
    "#3.List some pros and cons of Python programming language?"
   ]
  },
  {
   "cell_type": "markdown",
   "id": "42f78243",
   "metadata": {},
   "source": [
    "ANS:-Pros of Python programming language:\n",
    "\n",
    "Readability: Python's clean and readable syntax makes it easy to understand and maintain code.\n",
    "\n",
    "Large ecosystem: Python has a vast collection of libraries and frameworks for various purposes, allowing for rapid development.\n",
    "\n",
    "Versatility: Python is a general-purpose language suitable for web development, scientific computing, data analysis, machine learning, and more.\n",
    "\n",
    "Productivity: Python's simplicity and extensive standard library enable faster development, prototyping, and iteration.\n",
    "\n",
    "Community support: Python has a thriving community that offers resources, tutorials, and support for developers.\n",
    "\n",
    "\n",
    "Cons of Python programming language:\n",
    "\n",
    "Performance: Compared to lower-level languages, Python can be slower due to its interpreted nature.\n",
    "\n",
    "Global Interpreter Lock (GIL): GIL limits the ability to effectively utilize multiple processor cores in CPU-bound applications.\n",
    "\n",
    "Mobile and game development: Python is less commonly used for mobile and game development due to performance considerations.\n",
    "\n",
    "Dependency management: Python's dependency management can be challenging, especially when dealing with conflicting library versions.\n",
    "\n",
    "Not ideal for low-level programming: Python may not be the best choice for low-level tasks that require fine-grained control or system-level programming."
   ]
  },
  {
   "cell_type": "code",
   "execution_count": 5,
   "id": "b6f56b46",
   "metadata": {},
   "outputs": [],
   "source": [
    "#4.In what all domains can we use Python?"
   ]
  },
  {
   "cell_type": "markdown",
   "id": "5fab390c",
   "metadata": {},
   "source": [
    "ANS:-Python can be used in a wide range of domains, including:\n",
    "\n",
    "1)Web Development: Python has frameworks like Django and Flask for building scalable and efficient web applications.\n",
    "\n",
    "2)Data Science and Analytics: Python's libraries such as NumPy, pandas, and SciPy provide robust tools for data manipulation, analysis, and visualization.\n",
    "\n",
    "3)Artificial Intelligence and Machine Learning: Python's libraries like TensorFlow, PyTorch, and scikit-learn are widely used in AI and ML research and development.\n",
    "\n",
    "4)Automation and Scripting: Python's simplicity and extensive standard library make it ideal for automating repetitive tasks and writing scripts.\n",
    "\n",
    "5)Scientific Computing: Python is used in scientific research and simulations, with libraries like matplotlib and scipy for scientific computations.\n",
    "\n",
    "6)DevOps and System Administration: Python is used for tasks like infrastructure automation, configuration management, and monitoring.\n",
    "\n",
    "7)Game Development: Python has frameworks like Pygame for developing games and prototypes.\n",
    "\n",
    "8)Internet of Things (IoT): Python is used for IoT applications and prototyping due to its ease of use and support for hardware integration.\n",
    "\n",
    "These are just a few examples, and Python's versatility allows it to be applied in many other domains, making it a popular choice for various programming tasks."
   ]
  },
  {
   "cell_type": "code",
   "execution_count": 6,
   "id": "bb91025a",
   "metadata": {},
   "outputs": [],
   "source": [
    "#5.What are variable and how can we declare them?"
   ]
  },
  {
   "cell_type": "markdown",
   "id": "acab1945",
   "metadata": {},
   "source": [
    "ANS:-In programming, a variable is a named storage location used to hold a value. It allows developers to store and manipulate data during program execution. In Python, variables are declared by assigning a value to a name using the \"=\" (assignment) operator. The name of the variable should follow certain rules, such as starting with a letter or underscore, and can contain letters, numbers, and underscores. There is no need to explicitly declare the data type of a variable in Python as it is dynamically typed. The data type is inferred based on the assigned value. For example, \"x = 5\" declares a variable named \"x\" with a value of 5."
   ]
  },
  {
   "cell_type": "code",
   "execution_count": 7,
   "id": "e51a99b5",
   "metadata": {},
   "outputs": [],
   "source": [
    "#6.How can we take an input from the user in Python?"
   ]
  },
  {
   "cell_type": "code",
   "execution_count": 8,
   "id": "9d34e9f5",
   "metadata": {},
   "outputs": [
    {
     "name": "stdout",
     "output_type": "stream",
     "text": [
      "Enter your name: SUBHANKAR MONDAL\n",
      "Hello, SUBHANKAR MONDAL!\n"
     ]
    }
   ],
   "source": [
    "#ANS\n",
    "name = input(\"Enter your name: \")\n",
    "print(\"Hello, \" + name + \"!\")"
   ]
  },
  {
   "cell_type": "code",
   "execution_count": 9,
   "id": "18b34db4",
   "metadata": {},
   "outputs": [],
   "source": [
    "#7.What is the default datatype of the value that has been taken as an input using input() function?"
   ]
  },
  {
   "cell_type": "markdown",
   "id": "7fa5b5cf",
   "metadata": {},
   "source": [
    "ANS:-The default data type of the value returned by the input() function in Python is always a string. Regardless of the user's input (whether it's a number, text, or any other data), the input() function will interpret and return it as a string.\n",
    "\n",
    "For example, if the user enters \"42\" as input, the input() function will return it as the string \"42\". If the user enters \"Hello, Python!\" as input, the input() function will return it as the string \"Hello, Python!\".\n",
    "\n",
    "If you need to use the user's input as a different data type (e.g., integer, float), you can explicitly convert it using type casting functions like int(), float(), etc."
   ]
  },
  {
   "cell_type": "code",
   "execution_count": 10,
   "id": "ca3537b3",
   "metadata": {},
   "outputs": [],
   "source": [
    "#8.What is type casting?"
   ]
  },
  {
   "cell_type": "markdown",
   "id": "7b7ac924",
   "metadata": {},
   "source": [
    "ANS:-Type casting, also known as type conversion, is the process of converting a value from one data type to another in a programming language. It allows you to change the interpretation and representation of data to match the desired data type for a particular operation or requirement. Type casting is typically performed using predefined functions provided by the programming language.\n",
    "\n",
    "For example, in Python, you can use int() to convert a value to an integer, float() to convert it to a floating-point number, and str() to convert it to a string. Type casting enables you to perform operations that are specific to a particular data type and ensures compatibility between different types, facilitating data manipulation and calculations."
   ]
  },
  {
   "cell_type": "code",
   "execution_count": 11,
   "id": "6ef9757b",
   "metadata": {},
   "outputs": [],
   "source": [
    "#9.Can we take more than one input from the user using single input() function? If yes, how? If no, why?"
   ]
  },
  {
   "cell_type": "markdown",
   "id": "e01fd23c",
   "metadata": {},
   "source": [
    "ANS:-No, the built-in input() function in Python allows you to take only a single input at a time. It waits for the user to enter a value and press the Enter key before returning that value as a string. If you want to take multiple inputs from the user, you need to call the input() function multiple times."
   ]
  },
  {
   "cell_type": "code",
   "execution_count": 12,
   "id": "038e43a8",
   "metadata": {},
   "outputs": [],
   "source": [
    "#10.What are keywords?"
   ]
  },
  {
   "cell_type": "markdown",
   "id": "f93bd37f",
   "metadata": {},
   "source": [
    "ANS:-In Python, keywords are reserved words that have special meanings and are part of the language's syntax. These words are reserved and cannot be used as identifiers (variable names, function names, etc.) because they serve predefined roles in the language.\n",
    "\n",
    "The keywords in Python:\n",
    "\n",
    "False   /   await   /   else   /    import    / pass/\n",
    "None  /     break /     except  /   in    /     raise/\n",
    "True /      class /     finally  /  is  /       return/\n",
    "and   /     continue/   for    /    lambda/     try/\n",
    "as /        def  /      from    /   nonlocal  / while/\n",
    "assert  /   del  /      global /    not    /    with/\n",
    "async /     elif /      if    /     or     /    yield"
   ]
  },
  {
   "cell_type": "code",
   "execution_count": 13,
   "id": "ee48a90b",
   "metadata": {},
   "outputs": [],
   "source": [
    "#11. Can we use keywords as a variable? Support your answer with reason."
   ]
  },
  {
   "cell_type": "markdown",
   "id": "8440e1af",
   "metadata": {},
   "source": [
    "ANS:-No, we cannot use keywords as variables in Python. Keywords are reserved words that have predefined meanings and are part of the language's syntax. They are specifically designated to serve certain purposes and cannot be redefined or used as identifiers. If we attempt to use a keyword as a variable name, it will result in a syntax error. Python's interpreter expects these keywords to be used in specific contexts and would be unable to differentiate between their intended usage and their misuse as variable names. Therefore, it is essential to choose variable names that do not conflict with Python's reserved keywords to ensure proper code execution."
   ]
  },
  {
   "cell_type": "code",
   "execution_count": 14,
   "id": "6a73be63",
   "metadata": {},
   "outputs": [],
   "source": [
    "#12. What is indentation? What's the use of indentaion in Python?"
   ]
  },
  {
   "cell_type": "markdown",
   "id": "2c839bea",
   "metadata": {},
   "source": [
    "ANS:-In Python, indentation refers to the consistent spacing at the beginning of lines of code. It is used to define the structure and hierarchy of the code by indicating blocks of code within control structures such as loops, conditionals, function definitions, and classes.\n",
    "\n",
    "The primary purpose of indentation in Python is to visually represent the logical structure of the code. It replaces traditional block delimiters (like curly braces {} in other languages) and enforces a consistent and readable coding style. The indentation level is typically set using spaces or tabs, and the most common convention is to use four spaces for each indentation level.\n",
    "\n",
    "Python uses indentation to determine which lines of code belong to a particular block. Statements with the same indentation are considered part of the same block, while a decrease in indentation signifies the end of a block. This makes the code more readable and helps in maintaining the code's logical flow."
   ]
  },
  {
   "cell_type": "code",
   "execution_count": 15,
   "id": "e9c80d19",
   "metadata": {},
   "outputs": [],
   "source": [
    "#13.How can we throw some output in Python?"
   ]
  },
  {
   "cell_type": "markdown",
   "id": "c20d8428",
   "metadata": {},
   "source": [
    "ANS:-In Python, you can generate output using the print() function. The print() function is used to display text or values on the console or standard output."
   ]
  },
  {
   "cell_type": "code",
   "execution_count": 16,
   "id": "9b001821",
   "metadata": {},
   "outputs": [],
   "source": [
    "#14.What are operators in Python?"
   ]
  },
  {
   "cell_type": "markdown",
   "id": "44b9da60",
   "metadata": {},
   "source": [
    "ANS:-In Python, operators are symbols or special characters that perform operations on operands (values or variables). Operators are used to manipulate and combine data in expressions and statements. Python supports various types of operators, including arithmetic operators (+, -, *, /), comparison operators (>, <, ==), assignment operators (=, +=, -=), logical operators (and, or, not), bitwise operators (&, |, ^), and more. These operators allow you to perform mathematical calculations, compare values, assign values to variables, and make logical decisions. Understanding and utilizing operators is crucial for performing computations and implementing control flow in Python programs."
   ]
  },
  {
   "cell_type": "code",
   "execution_count": 17,
   "id": "b565aa75",
   "metadata": {},
   "outputs": [],
   "source": [
    "#15.What is difference between / and // operators?"
   ]
  },
  {
   "cell_type": "markdown",
   "id": "137f9005",
   "metadata": {},
   "source": [
    "ANS:- In Python, the / and // operators are used for division, but they behave differently depending on the operands and their types.\n",
    "\n",
    "The '/' operator performs normal division and returns the quotient as a float. It produces the result with decimal points, regardless of the operand types.\n",
    "\n",
    "On the other hand, the '//' operator performs floor division and returns the quotient as an integer, discarding any decimal places. It rounds down to the nearest whole number. \n",
    "\n"
   ]
  },
  {
   "cell_type": "code",
   "execution_count": 20,
   "id": "fba9712a",
   "metadata": {},
   "outputs": [],
   "source": [
    "#16. Write a code that gives following as an output.\n",
    "#```\n",
    "#iNeuroniNeuroniNeuroniNeuron\n",
    "#```"
   ]
  },
  {
   "cell_type": "code",
   "execution_count": 22,
   "id": "b8f29d9a",
   "metadata": {},
   "outputs": [
    {
     "name": "stdout",
     "output_type": "stream",
     "text": [
      "iNeuroniNeuroniNeuroniNeuron\n"
     ]
    }
   ],
   "source": [
    "output =  \"iNeuron\" * 4\n",
    "print(output)"
   ]
  },
  {
   "cell_type": "code",
   "execution_count": 23,
   "id": "de44fa24",
   "metadata": {},
   "outputs": [],
   "source": [
    "#17.Write a code to take a number as an input from the user and check if the number is odd or even."
   ]
  },
  {
   "cell_type": "code",
   "execution_count": 24,
   "id": "7051e14c",
   "metadata": {},
   "outputs": [
    {
     "name": "stdout",
     "output_type": "stream",
     "text": [
      "Enter a number: 10\n",
      "10 is even\n"
     ]
    }
   ],
   "source": [
    "number = int(input(\"Enter a number: \"))\n",
    "\n",
    "if number % 2 == 0:\n",
    "    print(number, \"is even\")\n",
    "else:\n",
    "    print(number, \"is odd\")"
   ]
  },
  {
   "cell_type": "code",
   "execution_count": 25,
   "id": "ede4bd06",
   "metadata": {},
   "outputs": [],
   "source": [
    "#18.What are boolean operator?"
   ]
  },
  {
   "cell_type": "markdown",
   "id": "dcfc3e7b",
   "metadata": {},
   "source": [
    "ANS:-Boolean operators, also known as logical operators, are operators in programming that perform logical operations on boolean values (True or False). In Python, there are three boolean operators:\n",
    "\n",
    "1)and: The 'and' operator returns True if both operands are True, and False otherwise. It evaluates to False as soon as one of the operands is False.\n",
    "\n",
    "2)or: The 'or' operator returns True if at least one of the operands is True, and False if both operands are False. It evaluates to True as soon as one of the operands is True.\n",
    "\n",
    "3)not: The 'not' operator is a unary operator that returns the opposite of the boolean value. It reverses the logical state of its operand. For example, not True evaluates to False, and not False evaluates to True."
   ]
  },
  {
   "cell_type": "code",
   "execution_count": 27,
   "id": "6b5850b5",
   "metadata": {},
   "outputs": [],
   "source": [
    "#19.What will the output of the following?\n",
    "\n",
    "#1 or 0\n",
    "\n",
    "#0 and 0\n",
    "\n",
    "#True and False and True\n",
    "\n",
    "#1 or 0 or 0"
   ]
  },
  {
   "cell_type": "markdown",
   "id": "1fb24ab0",
   "metadata": {},
   "source": [
    "ANS:-\n",
    "1 or 0: The or operator returns the first True value it encounters or the last value if none of the operands are True. In this case, 1 is considered True, so the expression evaluates to 1. Therefore, the output will be 1.\n",
    "\n",
    "0 and 0: The and operator returns the first False value it encounters or the last value if none of the operands are False. In this case, both operands are False (0 is considered False), so the expression evaluates to 0. Therefore, the output will be 0.\n",
    "\n",
    "True and False and True: The and operator returns the first False value it encounters or the last value if none of the operands are False. In this case, the second operand is False. Since and short-circuits when it encounters a False value, it doesn't evaluate the remaining operands. Therefore, the output will be False.\n",
    "\n",
    "1 or 0 or 0: The or operator returns the first True value it encounters or the last value if none of the operands are True. In this case, the first operand is True, so the expression evaluates to 1. Therefore, the output will be 1."
   ]
  },
  {
   "cell_type": "code",
   "execution_count": 28,
   "id": "dac1b3e9",
   "metadata": {},
   "outputs": [],
   "source": [
    "#20.What are conditional statements in Python?"
   ]
  },
  {
   "cell_type": "markdown",
   "id": "dbfa1f66",
   "metadata": {},
   "source": [
    "ANS:-Conditional statements in Python are used to control the flow of a program based on certain conditions. They allow the program to make decisions and execute different blocks of code based on whether a condition is true or false.\n",
    "\n"
   ]
  },
  {
   "cell_type": "code",
   "execution_count": 29,
   "id": "c6f4a47a",
   "metadata": {},
   "outputs": [],
   "source": [
    "#21.What is use of 'if', 'elif' and 'else' keywords?"
   ]
  },
  {
   "cell_type": "markdown",
   "id": "69450714",
   "metadata": {},
   "source": [
    "ANS:- 'if' statement: It executes a block of code if a specified condition is true. It can be followed by an optional elif (short for \"else if\") statement and an optional else statement to handle additional conditions.\n",
    "\n",
    "'elif' statement: It is used to check additional conditions after the initial if statement. It allows the program to test multiple conditions sequentially.\n",
    "\n",
    "'else' statement: It is used to provide an alternative block of code to be executed when the preceding if and elif conditions are false."
   ]
  },
  {
   "cell_type": "code",
   "execution_count": 30,
   "id": "6a771cb1",
   "metadata": {},
   "outputs": [],
   "source": [
    "#22.Write a code to take the age of person as an input and if age >= 18 display \"I can vote\". If age is < 18 display \"I can't vote\".\n"
   ]
  },
  {
   "cell_type": "code",
   "execution_count": 31,
   "id": "f71eedd7",
   "metadata": {},
   "outputs": [
    {
     "name": "stdout",
     "output_type": "stream",
     "text": [
      "Enter your age: 28\n",
      "I can vote.\n"
     ]
    }
   ],
   "source": [
    "age = int(input(\"Enter your age: \"))\n",
    "\n",
    "if age >= 18:\n",
    "    print(\"I can vote.\")\n",
    "else:\n",
    "    print(\"I can't vote.\")"
   ]
  },
  {
   "cell_type": "code",
   "execution_count": 32,
   "id": "dd43385c",
   "metadata": {},
   "outputs": [],
   "source": [
    "#Write a code that displays the sum of all the even numbers from the given list.\n",
    "\n",
    "#numbers = [12, 75, 150, 180, 145, 525, 50]"
   ]
  },
  {
   "cell_type": "code",
   "execution_count": 35,
   "id": "152aabe2",
   "metadata": {},
   "outputs": [
    {
     "name": "stdout",
     "output_type": "stream",
     "text": [
      "Sum of even numbers: 392\n"
     ]
    }
   ],
   "source": [
    "numbers = [12, 75, 150, 180, 145, 525, 50]\n",
    "even_sum = 0\n",
    "\n",
    "for num in numbers:\n",
    "    if num % 2 == 0:\n",
    "        even_sum += num\n",
    "\n",
    "print(\"Sum of even numbers:\", even_sum)\n"
   ]
  },
  {
   "cell_type": "code",
   "execution_count": 36,
   "id": "8a2b8594",
   "metadata": {},
   "outputs": [],
   "source": [
    "#Write a code to take 3 numbers as an input from the user and display the greatest no as output."
   ]
  },
  {
   "cell_type": "code",
   "execution_count": 37,
   "id": "b2741ddb",
   "metadata": {},
   "outputs": [
    {
     "name": "stdout",
     "output_type": "stream",
     "text": [
      "Enter the first number: 40\n",
      "Enter the second number: 56\n",
      "Enter the third number: 68\n",
      "The largest number is: 68.0\n"
     ]
    }
   ],
   "source": [
    "num1 = float(input(\"Enter the first number: \"))\n",
    "num2 = float(input(\"Enter the second number: \"))\n",
    "num3 = float(input(\"Enter the third number: \"))\n",
    "\n",
    "if num1 >= num2 and num1 >= num3:\n",
    "    largest = num1\n",
    "elif num2 >= num1 and num2 >= num3:\n",
    "    largest = num2\n",
    "else:\n",
    "    largest = num3\n",
    "\n",
    "print(\"The largest number is:\", largest)\n"
   ]
  },
  {
   "cell_type": "code",
   "execution_count": 38,
   "id": "43f53adc",
   "metadata": {},
   "outputs": [],
   "source": [
    "#Q25. Write a program to display only those numbers from a list that satisfy the following conditions\n",
    "\n",
    "#- The number must be divisible by five\n",
    "\n",
    "#- If the number is greater than 150, then skip it and move to the next number\n",
    "\n",
    "#- If the number is greater than 500, then stop the loop\n",
    "#```\n",
    "#numbers = [12, 75, 150, 180, 145, 525, 50]\n",
    "#```"
   ]
  },
  {
   "cell_type": "code",
   "execution_count": 39,
   "id": "65a0870f",
   "metadata": {},
   "outputs": [
    {
     "name": "stdout",
     "output_type": "stream",
     "text": [
      "75\n",
      "150\n",
      "145\n"
     ]
    }
   ],
   "source": [
    "numbers = [12, 75, 150, 180, 145, 525, 50]\n",
    "\n",
    "for num in numbers:\n",
    "    if num > 500:\n",
    "        break  # Stop the loop if number is greater than 500\n",
    "    if num > 150:\n",
    "        continue  # Skip the number if it is greater than 150\n",
    "    if num % 5 == 0:\n",
    "        print(num)\n"
   ]
  },
  {
   "cell_type": "code",
   "execution_count": null,
   "id": "97e89769",
   "metadata": {},
   "outputs": [],
   "source": []
  }
 ],
 "metadata": {
  "kernelspec": {
   "display_name": "Python 3 (ipykernel)",
   "language": "python",
   "name": "python3"
  },
  "language_info": {
   "codemirror_mode": {
    "name": "ipython",
    "version": 3
   },
   "file_extension": ".py",
   "mimetype": "text/x-python",
   "name": "python",
   "nbconvert_exporter": "python",
   "pygments_lexer": "ipython3",
   "version": "3.9.7"
  }
 },
 "nbformat": 4,
 "nbformat_minor": 5
}
